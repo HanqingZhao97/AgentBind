{
 "cells": [
  {
   "cell_type": "code",
   "execution_count": 1,
   "metadata": {},
   "outputs": [
    {
     "name": "stdout",
     "output_type": "stream",
     "text": [
      "Populating the interactive namespace from numpy and matplotlib\n"
     ]
    }
   ],
   "source": [
    "%pylab inline\n",
    "\n",
    "import matplotlib\n",
    "matplotlib.rcParams['pdf.fonttype'] = 42\n",
    "matplotlib.rcParams['ps.fonttype'] = 42\n",
    "\n",
    "import pandas as pd\n",
    "from sklearn.metrics import roc_curve\n",
    "import seaborn as sns\n",
    "import os\n",
    "\n",
    "TF_list = [\"CTCF\",\n",
    "\"EBF1\",\n",
    "\"SP1\",\n",
    "\"PU1\",\n",
    "\"RUNX3\",\n",
    "\"NFYB\",\n",
    "\"Nrf1\",\n",
    "\"ELF1\",\n",
    "\"NFKB\",\n",
    "\"TCF3\",\n",
    "\"Mxi1\",\n",
    "\"USF1\",\n",
    "\"YY1\",\n",
    "\"USF2\",\n",
    "\"ZEB1\",\n",
    "\"PAX5\",\n",
    "\"POU2F2\",\n",
    "\"NRSF\",\n",
    "\"PBX3\",\n",
    "\"MEF2A\",\n",
    "\"E2F4\",\n",
    "\"BHLHE40\",\n",
    "\"ELK1\",\n",
    "\"NFIC\",\n",
    "\"MEF2C\",\n",
    "\"Max\",\n",
    "\"SRF\",\n",
    "\"Znf143\",\n",
    "\"IRF4\",\n",
    "\"ZBTB33\",\n",
    "\"NFYA\",\n",
    "\"ETS1\",\n",
    "\"RFX5\",\n",
    "\"STAT3\",\n",
    "\"JunD\",\n",
    "\"CEBPB\",\n",
    "\"STAT1\",\n",
    "\"FOS\"]"
   ]
  },
  {
   "cell_type": "code",
   "execution_count": 2,
   "metadata": {},
   "outputs": [
    {
     "data": {
      "image/png": "[encoded data removed]",
      "text/plain": [
       "<Figure size 720x504 with 5 Axes>"
      ]
     },
     "metadata": {
      "needs_background": "light"
     },
     "output_type": "display_data"
    }
   ],
   "source": [
    "exnum = 89\n",
    "gcfile_ex = \"/storage/pandaman/project/AgentBind-Simulation/results_new/gcam/c/simulated-TAL1/weight_figures/vis-sample-%s.txt\"%exnum\n",
    "gcam = [float(item.strip().split()[1]) for item in open(gcfile_ex, \"r\").readlines()]\n",
    "\n",
    "smfile_ex = \"/storage/pandaman/project/AgentBind-Simulation/results_new/reg/c/simulated-TAL1/weight_figures/vis-sample-%s.txt\"%exnum\n",
    "sm = [float(item.strip().split()[1]) for item in open(smfile_ex, \"r\").readlines()]\n",
    "\n",
    "mutfile_ex = \"/storage/pandaman/project/AgentBind-Simulation/results_new/prtb/c/simulated-TAL1/weight_figures/vis-sample-%s.txt\"%exnum\n",
    "mut = [float(item.strip().split()[1])-0.90 for item in open(mutfile_ex, \"r\").readlines()]\n",
    "\n",
    "dlfile_ex = \"/storage/pandaman/project/AgentBind-Simulation/results/deeplift/c/rescale_conv_revealcancel_fc/weight_figures/vis-sample-%s.txt\"%exnum\n",
    "dl = [float(item.strip().split()[1]) for item in open(dlfile_ex, \"r\").readlines()]\n",
    "\n",
    "sval = 1\n",
    "color = \"darkblue\"\n",
    "\n",
    "xvals = range(len(gcam))\n",
    "motif_pos = [1 if ((idx>=338 and idx<354) or (idx>=748 and idx<764)) else 0 for idx in xvals]\n",
    "core_pos = [1 if ((idx>=492 and idx<508)) else 0 for idx in xvals]\n",
    "\n",
    "fig = plt.figure()\n",
    "fig.set_size_inches((10,7))\n",
    "\n",
    "ax = fig.add_subplot(511)\n",
    "ax.axhline(y=0.5, color=\"black\", linewidth=1)\n",
    "ax.bar(xvals, motif_pos, color=\"red\", width=1)\n",
    "ax.bar(xvals, core_pos, color=\"grey\", width=1)\n",
    "ax.set_xticks([])\n",
    "ax.set_yticks([])\n",
    "ax.set_ylim(bottom=0, top=5)\n",
    "ax.spines['right'].set_visible(False)\n",
    "ax.spines['left'].set_visible(False)\n",
    "ax.spines['top'].set_visible(False)\n",
    "ax.spines['bottom'].set_visible(False)\n",
    "\n",
    "ax = fig.add_subplot(512)\n",
    "ax.ticklabel_format(axis='y', style='scientific', scilimits=(0,0))\n",
    "ax.bar(xvals, gcam, color=color, width=1)\n",
    "ax.set_xticks([])\n",
    "#ax.set_yticks(np.arange(-0.05, 0.11, 0.05))\n",
    "ax.axhline(y=0, color=\"gray\", linewidth=0.5)\n",
    "#ax.set_ylim(bottom=-0.0009, top=0.001)\n",
    "ax.spines['right'].set_visible(False)\n",
    "ax.spines['top'].set_visible(False)\n",
    "ax.spines['bottom'].set_visible(False)\n",
    "\n",
    "ax = fig.add_subplot(513)\n",
    "ax.ticklabel_format(axis='y', style='scientific', scilimits=(0,0))\n",
    "ax.bar(xvals, sm, color=color,  width=1)\n",
    "ax.set_xticks([])\n",
    "ax.axhline(y=0, color=\"gray\", linewidth=0.5)\n",
    "#ax.set_yticks(np.arange(-0.05, 0.06, 0.05))\n",
    "#ax.set_ylim(bottom=-3, top=4.5)\n",
    "ax.spines['right'].set_visible(False)\n",
    "ax.spines['top'].set_visible(False)\n",
    "ax.spines['bottom'].set_visible(False)\n",
    "\n",
    "ax = fig.add_subplot(514)\n",
    "ax.ticklabel_format(axis='y', style='scientific', scilimits=(0,0))\n",
    "ax.bar(xvals, mut, color=color,  width=1, bottom=0.90)\n",
    "#ax.set_yticks(np.arange(0, 0.021, 0.01))\n",
    "ax.set_xticks([])\n",
    "ax.axhline(y=0.90, color=\"gray\", linewidth=0.5)\n",
    "ax.set_ylim(bottom=-0.1, top=7.6)\n",
    "ax.spines['right'].set_visible(False)\n",
    "ax.spines['top'].set_visible(False)\n",
    "ax.spines['bottom'].set_visible(False)\n",
    "\n",
    "ax = fig.add_subplot(515)\n",
    "ax.ticklabel_format(axis='y', style='scientific', scilimits=(0,0))\n",
    "ax.bar(xvals, dl, color=color, width=1)\n",
    "#ax.set_yticks(np.arange(0, 0.021, 0.01))\n",
    "ax.set_xticks(np.arange(0, 1001, 100))\n",
    "ax.set_xticklabels(list(np.arange(-500, 1, 100)) + [\"+%s\"%item for item in np.arange(100, 501, 100)])\n",
    "ax.axhline(y=0, color=\"gray\", linewidth=0.5)\n",
    "#ax.set_ylim(bottom=-0.1, top=2.1)\n",
    "ax.spines['right'].set_visible(False)\n",
    "ax.spines['top'].set_visible(False)\n",
    "\n",
    "\n",
    "fig.savefig(\"AgentBind_Figure2b_sim.pdf\")"
   ]
  },
  {
   "cell_type": "code",
   "execution_count": null,
   "metadata": {},
   "outputs": [],
   "source": []
  },
  {
   "cell_type": "code",
   "execution_count": null,
   "metadata": {},
   "outputs": [],
   "source": []
  }
 ],
 "metadata": {
  "kernelspec": {
   "display_name": "Python 3",
   "language": "python",
   "name": "python3"
  },
  "language_info": {
   "codemirror_mode": {
    "name": "ipython",
    "version": 3
   },
   "file_extension": ".py",
   "mimetype": "text/x-python",
   "name": "python",
   "nbconvert_exporter": "python",
   "pygments_lexer": "ipython3",
   "version": "3.7.4"
  }
 },
 "nbformat": 4,
 "nbformat_minor": 2
}
